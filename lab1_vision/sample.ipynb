{
 "cells": [
  {
   "metadata": {},
   "cell_type": "code",
   "source": [
    "import cv2\n",
    "import numpy as np\n",
    "from PIL import Image\n",
    "from IPython.display import display\n",
    "\n",
    "from lab1_vision.image_gen import create_shapes_image"
   ],
   "id": "fbc121e30a2defb3",
   "outputs": [],
   "execution_count": null
  },
  {
   "metadata": {},
   "cell_type": "code",
   "source": [
    "IMG_PATH = 'img.png'\n",
    "FIGURE_TO_SEARCH = 'square' # triangle, square, pentagon, star\n",
    "COLOR_TO_SEARCH = 'red' # red, yellow, blue"
   ],
   "id": "1ab7a960f451dff5",
   "outputs": [],
   "execution_count": null
  },
  {
   "metadata": {},
   "cell_type": "code",
   "source": [
    "COLORS_RANGE = {'red': (np.array([0, 0, 200]), np.array([50, 50, 255])),\n",
    "                'yellow': (np.array([0, 200, 200]), np.array([50, 255, 255])),\n",
    "                'blue': (np.array([200, 0, 0]), np.array([255, 50, 50]))}\n",
    "VERTEXES_NUMBER = {'triangle': 3, 'square': 4, 'pentagon': 5, 'star': 10}"
   ],
   "id": "6b76da475f1142d8",
   "outputs": [],
   "execution_count": null
  },
  {
   "metadata": {},
   "cell_type": "code",
   "source": "create_shapes_image(save_path=IMG_PATH)",
   "id": "25480b25e59a6f06",
   "outputs": [],
   "execution_count": null
  },
  {
   "metadata": {},
   "cell_type": "code",
   "source": "img = cv2.imread(IMG_PATH)",
   "id": "f1ecee405b542d3f",
   "outputs": [],
   "execution_count": null
  },
  {
   "metadata": {},
   "cell_type": "code",
   "source": [
    "lower, higher = COLORS_RANGE[COLOR_TO_SEARCH][0], COLORS_RANGE[COLOR_TO_SEARCH][1]\n",
    "mask = cv2.inRange(img, lower, higher)\n",
    "selection = cv2.bitwise_and(img, img, mask=mask)\n",
    "display(Image.fromarray(cv2.cvtColor(selection, cv2.COLOR_BGR2RGB)))"
   ],
   "id": "f1edc66ff518a09b",
   "outputs": [],
   "execution_count": null
  },
  {
   "metadata": {},
   "cell_type": "code",
   "source": [
    "gray = cv2.cvtColor(selection, cv2.COLOR_BGR2GRAY)\n",
    "display(Image.fromarray(cv2.cvtColor(gray, cv2.COLOR_BGR2RGB)))"
   ],
   "id": "3e42090b63067f66",
   "outputs": [],
   "execution_count": null
  },
  {
   "metadata": {},
   "cell_type": "code",
   "source": [
    "contours, _ = cv2.findContours(gray, cv2.RETR_EXTERNAL, cv2.CHAIN_APPROX_SIMPLE)\n",
    "for cont in contours:\n",
    "    sm = cv2.arcLength(cont, True)\n",
    "    apd = cv2.approxPolyDP(cont, 0.02 * sm, True)\n",
    "    if len(apd) == VERTEXES_NUMBER[FIGURE_TO_SEARCH]: # поиск по количеству вершин\n",
    "        cv2.drawContours(img, [cont], -1, (255, 255, 255), 10)\n",
    "display(Image.fromarray(cv2.cvtColor(img, cv2.COLOR_BGR2RGB)))"
   ],
   "id": "db579ba6c1784af7",
   "outputs": [],
   "execution_count": null
  }
 ],
 "metadata": {
  "kernelspec": {
   "display_name": "Python 3",
   "language": "python",
   "name": "python3"
  },
  "language_info": {
   "codemirror_mode": {
    "name": "ipython",
    "version": 2
   },
   "file_extension": ".py",
   "mimetype": "text/x-python",
   "name": "python",
   "nbconvert_exporter": "python",
   "pygments_lexer": "ipython2",
   "version": "2.7.6"
  }
 },
 "nbformat": 4,
 "nbformat_minor": 5
}
