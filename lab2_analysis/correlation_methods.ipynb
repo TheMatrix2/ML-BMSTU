{
 "cells": [
  {
   "cell_type": "code",
   "id": "initial_id",
   "metadata": {
    "collapsed": true
   },
   "source": [
    "import numpy as np\n",
    "import pandas as pd\n",
    "import matplotlib.pyplot as plt\n",
    "import seaborn as sns\n",
    "from scipy import stats\n"
   ],
   "outputs": [],
   "execution_count": null
  },
  {
   "metadata": {},
   "cell_type": "code",
   "source": "df = pd.read_csv('heart.csv')",
   "id": "b1c49c284b040f0f",
   "outputs": [],
   "execution_count": null
  },
  {
   "metadata": {},
   "cell_type": "code",
   "source": [
    "data_types = {\n",
    "    'Количественный непрерывный': ['age', 'trestbps', 'chol', 'thalach', 'oldpeak'],\n",
    "    'Количественный дискретный': ['ca'],\n",
    "    'Категориальный (бинарный)': ['sex', 'fbs', 'exang', 'target'],\n",
    "    'Категориальный/ранговый': ['cp', 'restecg', 'slope', 'thal']\n",
    "}\n",
    "quant_features = data_types['Количественный непрерывный'] + data_types['Количественный дискретный']\n",
    "rank_features = data_types['Категориальный/ранговый']"
   ],
   "id": "49e1d202a83a5e1f",
   "outputs": [],
   "execution_count": null
  },
  {
   "metadata": {},
   "cell_type": "code",
   "source": [
    "print(\"\\nСтатистическое описание датасета (количественные признаки):\")\n",
    "print(df[quant_features].describe().T)"
   ],
   "id": "3719b429638715e4",
   "outputs": [],
   "execution_count": null
  },
  {
   "metadata": {},
   "cell_type": "code",
   "source": [
    "cols = 3\n",
    "rows = 5\n",
    "fig, axes = plt.subplots(rows, cols, figsize=(15, 5 * rows))\n",
    "axes = axes.flatten()\n",
    "\n",
    "for i, col in enumerate(df.columns):\n",
    "    sns.histplot(df[col], bins=30, kde=True, ax=axes[i])\n",
    "    axes[i].set_title(f'Распределение {col}')\n",
    "\n",
    "for j in range(i + 1, len(axes)):\n",
    "    fig.delaxes(axes[j])\n",
    "\n",
    "plt.tight_layout()\n",
    "plt.show()"
   ],
   "id": "10022885f9bf84c8",
   "outputs": [],
   "execution_count": null
  },
  {
   "metadata": {},
   "cell_type": "code",
   "source": "sns.pairplot(df[['age', 'chol', 'cp', 'target']])",
   "id": "ab8eb8fc0c6877fe",
   "outputs": [],
   "execution_count": null
  },
  {
   "metadata": {},
   "cell_type": "code",
   "source": [
    "# Корреляция Пирсона для количественных непрерывных нормальных признаков\n",
    "continuous_features = ['age', 'trestbps', 'chol', 'thalach']\n",
    "pearson_corr = df[continuous_features].corr(method='pearson')\n",
    "print(pearson_corr)\n",
    "\n",
    "# Визуализация корреляции Пирсона\n",
    "plt.figure(figsize=(10, 8))\n",
    "sns.heatmap(pearson_corr, annot=True, cmap='coolwarm', fmt='.2f')\n",
    "plt.title('Корреляция Пирсона между количественными непрерывными нормальными признаками')\n",
    "plt.tight_layout()\n",
    "plt.show()"
   ],
   "id": "eb5bd90610353693",
   "outputs": [],
   "execution_count": null
  },
  {
   "metadata": {},
   "cell_type": "code",
   "source": [
    "# Корреляция Спирмена для всех количественных признаков (не требует нормальности)\n",
    "spearman_corr = df[quant_features].corr(method='spearman')\n",
    "print(spearman_corr)\n",
    "\n",
    "# Визуализация корреляции Спирмена\n",
    "plt.figure(figsize=(10, 8))\n",
    "sns.heatmap(spearman_corr, annot=True, cmap='coolwarm', fmt='.2f')\n",
    "plt.title('Корреляция Спирмена между количественными признаками')\n",
    "plt.tight_layout()\n",
    "plt.show()"
   ],
   "id": "d4f883dd945515ec",
   "outputs": [],
   "execution_count": null
  },
  {
   "metadata": {},
   "cell_type": "code",
   "source": [
    "# Корреляция Спирмена для всех ранговых признаков\n",
    "spearman_corr = df[rank_features].corr(method='spearman')\n",
    "print(spearman_corr)\n",
    "\n",
    "# Визуализация корреляции Спирмена\n",
    "plt.figure(figsize=(10, 8))\n",
    "sns.heatmap(spearman_corr, annot=True, cmap='coolwarm', fmt='.2f')\n",
    "plt.title('Корреляция Спирмена между ранговыми признаками')\n",
    "plt.tight_layout()\n",
    "plt.show()"
   ],
   "id": "5bc9eae2b5818e1c",
   "outputs": [],
   "execution_count": null
  },
  {
   "metadata": {},
   "cell_type": "code",
   "source": [
    "# Корреляция Спирмена между ранговыми и количественными признаками\n",
    "spearman_corr = df[rank_features + quant_features].corr(method='spearman')\n",
    "print(spearman_corr)\n",
    "\n",
    "# Визуализация корреляции Спирмена\n",
    "plt.figure(figsize=(10, 8))\n",
    "sns.heatmap(spearman_corr, annot=True, cmap='coolwarm', fmt='.2f')\n",
    "plt.title('Корреляция Спирмена между ранговыми и количественными признаками')\n",
    "plt.tight_layout()\n",
    "plt.show()"
   ],
   "id": "48f1abec590dafaf",
   "outputs": [],
   "execution_count": null
  },
  {
   "metadata": {},
   "cell_type": "code",
   "source": [
    "# Корреляция Кендалла для всех количественных признаков\n",
    "kendall_corr = df[quant_features].corr(method='kendall')\n",
    "print(kendall_corr)\n",
    "\n",
    "# Визуализация корреляции Кендалла\n",
    "plt.figure(figsize=(10, 8))\n",
    "sns.heatmap(kendall_corr, annot=True, cmap='coolwarm', fmt='.2f')\n",
    "plt.title('Корреляция Кендалла для всех количественных признаков')\n",
    "plt.tight_layout()\n",
    "plt.show()"
   ],
   "id": "32e27718b120fb30",
   "outputs": [],
   "execution_count": null
  },
  {
   "metadata": {},
   "cell_type": "code",
   "source": [
    "# Point-biserial корреляция между количественными и бинарными признаками\n",
    "for quant in quant_features:\n",
    "    r, p = stats.pointbiserialr(df[quant], df['target'])\n",
    "    print(\"%10s - target\" % (quant) + f\": r = {round(r, 4)}, p-value = {round(p, 3)}\")"
   ],
   "id": "6fdd4e8258a7095a",
   "outputs": [],
   "execution_count": null
  },
  {
   "metadata": {},
   "cell_type": "code",
   "source": [
    "# Хи-квадрат для категориальных признаков\n",
    "for cat in data_types['Категориальный (бинарный)'] + data_types['Категориальный/ранговый']:\n",
    "    if cat == 'target':\n",
    "        continue\n",
    "\n",
    "    contingency_table = pd.crosstab(df[cat], df['target'])\n",
    "    chi2, p, dof, expected = stats.chi2_contingency(contingency_table)\n",
    "    n = contingency_table.sum().sum()\n",
    "    v = np.sqrt(chi2 / (n * min(contingency_table.shape) - 1))\n",
    "\n",
    "    print(f\"{cat} - target: Chi2 = {round(chi2, 4)}, p-value = {round(p, 3)}, V Крамера = {round(v, 4)}\")\n",
    "\n",
    "    # Вывод таблицы сопряженности\n",
    "    print(f\"Таблица сопряженности {cat} и target:\")\n",
    "    print(contingency_table)\n",
    "    print()"
   ],
   "id": "98c5e80bc58ec205",
   "outputs": [],
   "execution_count": null
  },
  {
   "metadata": {},
   "cell_type": "code",
   "source": [
    "# Для количественных признаков с целевой переменной - ящик с усами\n",
    "plt.figure(figsize=(15, 10))\n",
    "for i, quant in enumerate(quant_features):\n",
    "    plt.subplot(2, 3, i + 1)\n",
    "    sns.boxplot(x='target', y=quant, data=df)\n",
    "    plt.title(f'{quant} vs target')\n",
    "plt.tight_layout()\n",
    "plt.show()"
   ],
   "id": "5fbddadc9ec85886",
   "outputs": [],
   "execution_count": null
  }
 ],
 "metadata": {
  "kernelspec": {
   "display_name": "Python 3",
   "language": "python",
   "name": "python3"
  },
  "language_info": {
   "codemirror_mode": {
    "name": "ipython",
    "version": 2
   },
   "file_extension": ".py",
   "mimetype": "text/x-python",
   "name": "python",
   "nbconvert_exporter": "python",
   "pygments_lexer": "ipython2",
   "version": "2.7.6"
  }
 },
 "nbformat": 4,
 "nbformat_minor": 5
}
